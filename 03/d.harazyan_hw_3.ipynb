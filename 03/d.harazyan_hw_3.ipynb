{
 "cells": [
  {
   "cell_type": "code",
   "execution_count": 4,
   "metadata": {},
   "outputs": [],
   "source": [
    "from lxml import html as lhtml                         # Непосредственно для парсинга.\n",
    "import requests                                        # Для получения html кода сайта.\n",
    "from multiprocessing.dummy import Pool as ThreadPool   # Для реализации параллельной обкачки.\n",
    "from math import ceil                                  # Для округления вверх.\n",
    "from tqdm.notebook import tqdm                         # Для визуализации прогресса итерации по генератору.\n",
    "import time                                            # Для ожидания окончания работы в  get_page().\n",
    "from multiprocessing import Lock                       # Для логгирования.\n",
    "\n",
    "\n",
    "import numpy as np  # Для дебага, чтобы получать произвольные url'ы.\n",
    "import random       # Для дебага, чтобы получать произвольные url'ы.\n",
    "\n",
    "import pandas as pd # Непосредственно для формирования *.csv файла."
   ]
  },
  {
   "cell_type": "code",
   "execution_count": 5,
   "metadata": {},
   "outputs": [],
   "source": [
    "with open('authors.txt', 'r') as f:\n",
    "    authors_id = list(map(int, f.read().split('\\n')[:-1]))"
   ]
  },
  {
   "cell_type": "code",
   "execution_count": 6,
   "metadata": {},
   "outputs": [],
   "source": [
    "way = '//div[@class=\"rd-listing-product-item rd-listing-product-item_size- rd-listing-product-item_type-\"]/a'"
   ]
  },
  {
   "cell_type": "code",
   "execution_count": 7,
   "metadata": {},
   "outputs": [],
   "source": [
    "def get_page(url, n_attempts=5, t_sleep=1, **kwargs):\n",
    "    r_get = requests.get(url, **kwargs)\n",
    "    if not r_get.ok:\n",
    "        time.sleep(t_sleep)\n",
    "        if n_attempts > 0:\n",
    "            return get_page(url, n_attempts-1, t_sleep, kwargs)\n",
    "    return r_get   "
   ]
  },
  {
   "cell_type": "code",
   "execution_count": 8,
   "metadata": {},
   "outputs": [],
   "source": [
    "def get_url(author):\n",
    "    \n",
    "    url_for_download = []\n",
    "\n",
    "    page_url = \"https://www.respublica.ru/authors/\" + str(author)\n",
    "    html = get_page(page_url)\n",
    "    tree = lhtml.fromstring(html.text)\n",
    "    all_page_nums = ceil(int(tree.xpath('//span[@class=\"rd-listing-count__total\"]')[0].text) / 22)\n",
    "\n",
    "    for page_num in range(all_page_nums):\n",
    "        \n",
    "        page_url = \"https://www.respublica.ru/authors/\" + str(author)\n",
    "        html = get_page(page_url, params={'page': page_num, })\n",
    "        tree = lhtml.fromstring(html.text)\n",
    "        all_book_on_page = tree.xpath(way)\n",
    "\n",
    "        for book in all_book_on_page:\n",
    "            url_for_download.append(\"https://www.respublica.ru\"+book.attrib['href'])\n",
    "    return url_for_download"
   ]
  },
  {
   "cell_type": "code",
   "execution_count": 9,
   "metadata": {},
   "outputs": [
    {
     "name": "stdout",
     "output_type": "stream",
     "text": [
      "CPU times: user 6.59 s, sys: 161 ms, total: 6.75 s\n",
      "Wall time: 20.2 s\n"
     ]
    }
   ],
   "source": [
    "%%time\n",
    "\n",
    "with ThreadPool(10) as pool:\n",
    "    authors_book_urls = pool.map(get_url, authors_id)\n",
    "pool.join()\n",
    "\n",
    "url_history_for_download = [url for sub_list in authors_book_urls for url in sub_list]"
   ]
  },
  {
   "cell_type": "code",
   "execution_count": 10,
   "metadata": {},
   "outputs": [
    {
     "data": {
      "text/plain": [
       "2860"
      ]
     },
     "execution_count": 10,
     "metadata": {},
     "output_type": "execute_result"
    }
   ],
   "source": [
    "len(url_history_for_download)"
   ]
  },
  {
   "cell_type": "code",
   "execution_count": 12,
   "metadata": {},
   "outputs": [],
   "source": [
    "template = {\n",
    "    \"ID\":       None,\n",
    "    \"URL\":      None,\n",
    "    \"Название\": None,\n",
    "    \"Автор\":    None,\n",
    "    \"Превью\":   None,\n",
    "    \"Изображение\":   None,\n",
    "    \"Описание\": None,\n",
    "    \"Цена\":     None,\n",
    "    \"Цена (старая)\": None,\n",
    "    \"В наличии\": None,\n",
    "    \"Категория\": None,\n",
    "    \"Число отзывов\": 0,\n",
    "    \"Число оценок\":  0,\n",
    "    \"Оценка\":   None,\n",
    "    \"ISBN\":     None,\n",
    "    \"Издательство\":  None,\n",
    "    \"Серия\":    None,\n",
    "    \"Обложка\":  None,\n",
    "    \"Формат\":   None,\n",
    "    \"Количество страниц\":   None,\n",
    "    \"Год издания\":   None,\n",
    "    \"Язык\":     None,\n",
    "    \"Направление\":   None,\n",
    "    \"Страна-производитель\": None\n",
    "}"
   ]
  },
  {
   "cell_type": "code",
   "execution_count": 14,
   "metadata": {},
   "outputs": [],
   "source": [
    "indexes = np.random.randint(0,len(url_history_for_download), 100)"
   ]
  },
  {
   "cell_type": "code",
   "execution_count": 25,
   "metadata": {},
   "outputs": [],
   "source": [
    "from multiprocessing import Pool, Lock, Value\n",
    "\n",
    "mutex = Lock()\n",
    "n_processed = Value('i', 0)\n",
    "\n",
    "def get_site(url):\n",
    "    \n",
    "    field = template.copy()\n",
    "    html = get_page(url)\n",
    "    tree = lhtml.fromstring(html.text)\n",
    "    \n",
    "    field[\"ID\"] = tree.xpath('//span[@itemprop=\"sku\"]')[0].text\n",
    "    field[\"URL\"] = url\n",
    "    field[\"Название\"] = tree.xpath('//h1[@class=\"rd-page-product__title\"]//text()')[0]\n",
    "    field[\"Автор\"] = tree.xpath('//a[@itemprop=\"brand\"]//text()')[0]\n",
    "    \n",
    "    preview_path = tree.xpath('//a[@class=\"download-pdf\"]')\n",
    "    if bool(preview_path):\n",
    "        field[\"Превью\"] = \"https://www.respublica.ru\" + preview_path[0].attrib['href'] \n",
    "    \n",
    "    field[\"Изображение\"] = tree.xpath('//meta[@property=\"og:image\"]')[0].attrib['content']\n",
    "    field[\"Описание\"] = ' '.join(tree.xpath('//div[@class=\"rd-page-product__desc-body\"]//text()'))\n",
    "    field[\"Цена\"] = int(tree.xpath('//span[@class=\"num\"]//text()')[0].replace(' ',''))\n",
    "    \n",
    "    old_price_path = tree.xpath('//div[@class=\"rd-page-product__price-old\"]//span//text()')\n",
    "    if bool(old_price_path):\n",
    "        field[\"Цена (старая)\"] = old_price_path[0]\n",
    "    \n",
    "    field[\"В наличии\"] = bool(tree.xpath('//a[@class=\"rd-page-product__buy rd-page-product__buy_status_available\"]'))\n",
    "    \n",
    "    categories = tree.xpath('//div[@class=\"rd-page-breadcrumbs rd-page-product__breadcrumbs\"]//span[@itemprop=\"name\"]//text()')\n",
    "    field[\"Категория\"] = '; '.join([item[1:] for item in categories])\n",
    "    \n",
    "    rating_block = tree.xpath('//span[@itemprop=\"aggregateRating\"]')\n",
    "    \n",
    "    if bool(rating_block):\n",
    "        \n",
    "        field[\"Число отзывов\"] = int(rating_block[0].xpath('//meta[@itemprop=\"reviewCount\"]')[0].attrib['content'])\n",
    "        field[\"Число оценок\"] = int(rating_block[0].xpath('//meta[@itemprop=\"ratingCount\"]')[0].attrib['content'])\n",
    "        field[\"Оценка\"] = float(rating_block[0].xpath('//meta[@itemprop=\"ratingValue\"]')[0].attrib['content'])\n",
    "    \n",
    "    features = tree.xpath('//p[@class=\"rd-page-product__desc-param\"]//text()')\n",
    "    features = {features[i]: features[i+2] for i in range(0,len(features)-1,3)}\n",
    "    keys = features.keys()\n",
    "    \n",
    "    names  = tree.xpath('//p[@class=\"rd-page-product__desc-param\"]//span[@itemprop=\"name\"]')\n",
    "    values = tree.xpath('//p[@class=\"rd-page-product__desc-param\"]//*[@itemprop=\"value\"]')\n",
    "\n",
    "    for idx in range(len(names)):\n",
    "            field[names[idx].text] = values[idx].text\n",
    "            \n",
    "    return field\n",
    "\n",
    "def get_site_wrapper(uid):\n",
    "    result = get_site(uid)\n",
    "    with mutex:\n",
    "        global n_processed\n",
    "        n_processed.value += 1\n",
    "        if n_processed.value % 10 == 0:\n",
    "            print(f\"\\r{n_processed.value} objects are processed...\", end='', flush=True)\n",
    "    return result"
   ]
  },
  {
   "cell_type": "code",
   "execution_count": null,
   "metadata": {},
   "outputs": [
    {
     "name": "stdout",
     "output_type": "stream",
     "text": [
      "2610 objects are processed..."
     ]
    }
   ],
   "source": [
    "%%time\n",
    "\n",
    "with ThreadPool(100) as pool:\n",
    "    all_sites = pool.map(get_site_wrapper, url_history_for_download)\n",
    "pool.join()"
   ]
  },
  {
   "cell_type": "code",
   "execution_count": null,
   "metadata": {},
   "outputs": [],
   "source": [
    "import pandas as pd\n",
    "pd.options.display.max_columns=100\n",
    "sites = pd.DataFrame(all_sites)\n",
    "sites.head(10)"
   ]
  },
  {
   "cell_type": "code",
   "execution_count": null,
   "metadata": {},
   "outputs": [],
   "source": [
    "sites.shape"
   ]
  },
  {
   "cell_type": "code",
   "execution_count": null,
   "metadata": {},
   "outputs": [],
   "source": [
    "sites.isnull().sum()"
   ]
  },
  {
   "cell_type": "code",
   "execution_count": null,
   "metadata": {},
   "outputs": [],
   "source": [
    "sites.to_csv('d.harazyan_hw_3.csv')"
   ]
  },
  {
   "cell_type": "code",
   "execution_count": null,
   "metadata": {},
   "outputs": [],
   "source": []
  },
  {
   "cell_type": "code",
   "execution_count": null,
   "metadata": {},
   "outputs": [],
   "source": []
  },
  {
   "cell_type": "code",
   "execution_count": null,
   "metadata": {},
   "outputs": [],
   "source": []
  },
  {
   "cell_type": "code",
   "execution_count": null,
   "metadata": {},
   "outputs": [],
   "source": []
  },
  {
   "cell_type": "code",
   "execution_count": null,
   "metadata": {},
   "outputs": [],
   "source": []
  },
  {
   "cell_type": "code",
   "execution_count": null,
   "metadata": {},
   "outputs": [],
   "source": []
  },
  {
   "cell_type": "code",
   "execution_count": null,
   "metadata": {},
   "outputs": [],
   "source": []
  },
  {
   "cell_type": "code",
   "execution_count": null,
   "metadata": {},
   "outputs": [],
   "source": []
  },
  {
   "cell_type": "code",
   "execution_count": null,
   "metadata": {},
   "outputs": [],
   "source": []
  },
  {
   "cell_type": "code",
   "execution_count": null,
   "metadata": {},
   "outputs": [],
   "source": [
    "# charact = [\"ISBN\", \"Издательство\", \"Серия\", \"Обложка\", \"Формат\", \"Количество страниц\",\\\n",
    "#            \"Год издания\", \"Язык\", \"Вес, г\", \"Направление\", \"Возрастные ограничения\", \"Страна-производитель\"]\n",
    "# template = {key: None for key in charact}\n",
    "\n",
    "# def get_site(url):\n",
    "    \n",
    "#     field = []\n",
    "#     html = get_page(url)\n",
    "#     tree = lhtml.fromstring(html.text)\n",
    "#     tmp = tree.xpath('//div[@class=\"rd-page-breadcrumbs rd-page-product__breadcrumbs\"]//span[@itemprop=\"name\"]//text()')\n",
    "    \n",
    "#     field.append(url) # 0 - URL.\n",
    "#     field.append([item[1:] for item in tmp]) #1 - Категория.\n",
    "#     field.append(tree.xpath('//h1[@class=\"rd-page-product__title\"]//text()')) #2 - Название.\n",
    "#     field.append(tree.xpath('//a[@itemprop=\"brand\"]//text()')[0]) # 3 - Автор.\n",
    "#     field.append(tree.xpath('//span[@itemprop=\"sku\"]')[0].text) # 4 - Артикул.\n",
    "    \n",
    "#     tmp = tree.xpath('//a[@class=\"download-pdf\"]')\n",
    "#     if bool(tmp):\n",
    "#         tmp = tmp[0].attrib['href']\n",
    "#         field.append(\"https://www.respublica.ru\" + tmp) # 5 - Превью.\n",
    "#     else:\n",
    "#         field.append(None)\n",
    "        \n",
    "#     field.append(tree.xpath('//meta[@property=\"og:image\"]')[0].attrib['content']) # 6 - Изображение.\n",
    "\n",
    "#     total_mark     = len(tree.xpath('//div[@class=\"rd-page-product__rating-stars\"]//div[@class=\"rd-rating-stars__star rd-rating-stars__star_fill\"]'))\n",
    "#     comment_number = len(tree.xpath('//div[@class=\"rd-product-reviews__item\"]//div[@class=\"rd-product-reviews__item-body\"]'))\n",
    "#     mark_number    = len(tree.xpath('//div[@class=\"rd-product-reviews__item\"]//div[@class=\"rd-rating-stars\"]'))\n",
    "#     field.append([total_mark, comment_number, mark_number]) # 7 - Оценка, отзывы, оценки.\n",
    "    \n",
    "#     field.append(int(tree.xpath('//span[@class=\"num\"]//text()')[0].replace(' ',''))) # 8 - Цена.    \n",
    "    \n",
    "#     tmp = tree.xpath('//div[@class=\"rd-page-product__price-old\"]//span//text()')\n",
    "#     if bool(tmp):\n",
    "#         field.append(tmp[0]) # 9 - старая Цена.\n",
    "#     else:\n",
    "#         field.append(None)\n",
    "        \n",
    "#     field.append(bool(tree.xpath('//a[@class=\"rd-page-product__buy rd-page-product__buy_status_available\"]'))) # 10 - Наличие.\n",
    "#     field.append(' '.join(tree.xpath('//div[@class=\"rd-page-product__desc-body\"]//text()'))) # 11 - Описание.\n",
    "\n",
    "#     tmp = tree.xpath('//p[@class=\"rd-page-product__desc-param\"]//text()')\n",
    "#     tmp = {tmp[i]: tmp[i+2] for i in range(0,len(tmp)-1,3)}\n",
    "#     temp = template.copy()\n",
    "#     for key in tmp.keys():\n",
    "#         temp[key] = tmp[key]\n",
    "#     field.append(temp) # 12 - Характеристики.    \n",
    "\n",
    "#     return field"
   ]
  }
 ],
 "metadata": {
  "kernelspec": {
   "display_name": "Python 3",
   "language": "python",
   "name": "python3"
  },
  "language_info": {
   "codemirror_mode": {
    "name": "ipython",
    "version": 3
   },
   "file_extension": ".py",
   "mimetype": "text/x-python",
   "name": "python",
   "nbconvert_exporter": "python",
   "pygments_lexer": "ipython3",
   "version": "3.7.3"
  }
 },
 "nbformat": 4,
 "nbformat_minor": 2
}
